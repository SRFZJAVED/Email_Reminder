{
  "nbformat": 4,
  "nbformat_minor": 0,
  "metadata": {
    "colab": {
      "name": "Email_Automation_project.ipynb",
      "provenance": [],
      "collapsed_sections": []
    },
    "kernelspec": {
      "name": "python3",
      "display_name": "Python 3"
    },
    "language_info": {
      "name": "python"
    }
  },
  "cells": [
    {
      "cell_type": "markdown",
      "metadata": {
        "id": "Nt2Guvl9-_PE"
      },
      "source": [
        "You need to create a email reminder program for the students of a course series which sends reminder email to the students just before the class day. But if the class happens on Monday, the reminder should go on Friday. (the class will happen only on weekdays)\n",
        "\n",
        "Currently only one student has enrolled in the course with the <br>\n",
        "mail id:hello@onelearn.io<br>\n",
        "name: OneLearner\n",
        "\n",
        "The schedule of the class is given in schedule.txt in the below format (mentioning the dates on which the class will happen along with topic name separated by '-'.) (the file is provided at this link, please download the file - https://drive.google.com/file/d/1ESYIxIBZtFoYcEhcqwd4WIBxM82tPvgU/view?usp=sharing)"
      ]
    },
    {
      "cell_type": "markdown",
      "metadata": {
        "id": "ZS1U8BGge_5N"
      },
      "source": [
        "```\n",
        "2021 8 Nov 10:00 AM - Class 1 Mod 1\n",
        "2021 11 Nov 11:00 AM - Class 1 Mod 2\n",
        "2021 15 Nov 9:00 PM - Class 2 Mod 1\n",
        "2021 17 Nov 11:00 AM - Class 2 Mod 2\n",
        "```"
      ]
    },
    {
      "cell_type": "code",
      "metadata": {
        "id": "ij7z_VSd2-Q_",
        "colab": {
          "base_uri": "https://localhost:8080/"
        },
        "outputId": "0a291430-2a0f-404f-9b1c-5ae9f7a41932"
      },
      "source": [
        "%%writefile reminder_mail.py\n",
        "import smtplib\n",
        "import sys\n",
        "from email.mime.multipart import MIMEMultipart\n",
        "from email.mime.text import MIMEText\n",
        "import datetime\n",
        "\n",
        "\n",
        "with open(\"schedule.txt\", \"r\") as schedule:\n",
        "    for content in schedule:\n",
        "        body = content.split(\"-\")\n",
        "        today_date = datetime.datetime.today()\n",
        "        format = \"%Y %d %b %H:%M %p\"\n",
        "        class_date = datetime.datetime.strptime(body[0].strip(), format)\n",
        "        if class_date.weekday() in [1, 2, 3, 4]:\n",
        "            if class_date.date() - today_date.date() == datetime.timedelta(days= 1):\n",
        "                #The mail address and password\n",
        "                mail_content = \"This is a reminder mail for your class on\" + body[1] + \" at \"+body[0].strip()+\". \" +\" Pls join the class on time.\" \n",
        "                sender_address = sys.argv[1]\n",
        "                sender_pass = sys.argv[2]\n",
        "                receiver_address = sys.argv[3]\n",
        "                #Stup the MIME\n",
        "                message = MIMEMultipart()\n",
        "                message[\"From\"] = sender_address\n",
        "                message[\"To\"] = receiver_address\n",
        "                message[\"Subject\"] = \"OneLearn course series reminder\"\n",
        "                #The body and the attachments for the mail\n",
        "                message.attach(MIMEText(mail_content, \"plain\"))\n",
        "                #Create SMTP session for sending the mail\n",
        "                session = smtplib.SMTP('smtp.gmail.com', 587) #use gmail with port\n",
        "                session.starttls() #enable security\n",
        "                session.login(sender_address, sender_pass) #login with mail_id and password\n",
        "                text = message.as_string()\n",
        "                session.sendmail(sender_address, receiver_address, text)\n",
        "                session.quit()\n",
        "                print('Mail Sent')\n",
        "            else:\n",
        "                continue\n",
        "        \n",
        "        elif class_date.date() - today_date.date() == datetime.timedelta(days = 3):\n",
        "            #The mail address and password\n",
        "            mail_content = \"This is a reminder mail for your class on\" + body[1] + \" at \"+body[0].strip()+\". \" +\" Pls join the class on time.\" \n",
        "            sender_address = sys.argv[1]\n",
        "            sender_pass = sys.argv[2]\n",
        "            receiver_address = sys.argv[3]\n",
        "            #Stup the MIME\n",
        "            message = MIMEMultipart()\n",
        "            message[\"From\"] = sender_address\n",
        "            message[\"To\"] = receiver_address\n",
        "            message[\"Subject\"] = \"OneLearn course series reminder\"\n",
        "            #The body and the attachments for the mail\n",
        "            message.attach(MIMEText(mail_content, \"plain\"))\n",
        "            #Create SMTP session for sending the mail\n",
        "            session = smtplib.SMTP('smtp.gmail.com', 587) #use gmail with port\n",
        "            session.starttls() #enable security\n",
        "            session.login(sender_address, sender_pass) #login with mail_id and password\n",
        "            text = message.as_string()\n",
        "            session.sendmail(sender_address, receiver_address, text)\n",
        "            session.quit()\n",
        "            print('Mail Sent')\n",
        "        else:\n",
        "            continue"
      ],
      "execution_count": null,
      "outputs": [
        {
          "output_type": "stream",
          "name": "stdout",
          "text": [
            "Writing reminder_mail.py\n"
          ]
        }
      ]
    },
    {
      "cell_type": "code",
      "metadata": {
        "id": "l4OIs18Cf9yy"
      },
      "source": [
        ""
      ],
      "execution_count": null,
      "outputs": []
    }
  ]
}